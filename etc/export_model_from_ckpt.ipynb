{
 "cells": [
  {
   "cell_type": "code",
   "execution_count": 1,
   "id": "28853efd-b556-4226-bdaf-3cfd043132d4",
   "metadata": {},
   "outputs": [],
   "source": [
    "import torch\n",
    "from collections import OrderedDict\n",
    "from vit import get_vit"
   ]
  },
  {
   "cell_type": "code",
   "execution_count": 2,
   "id": "fe8fc0c3-2537-4543-8203-5da4301f4a71",
   "metadata": {},
   "outputs": [],
   "source": [
    "ckpt = torch.load(\"models/vit_small_dino_2x_mixed.ckpt\", map_location=\"cpu\")"
   ]
  },
  {
   "cell_type": "code",
   "execution_count": 3,
   "id": "42765847-2a5b-44c2-82f5-9514e27d3cf3",
   "metadata": {},
   "outputs": [
    {
     "data": {
      "text/plain": [
       "{'arch': 'small',\n",
       " 'image_size': 224,\n",
       " 'patch_size': 16,\n",
       " 'drop_path_rate': 0.1,\n",
       " 'pos_emb': 'learned',\n",
       " 'hidden_dim': 2048,\n",
       " 'bottleneck_dim': 256,\n",
       " 'output_dim': 65536,\n",
       " 'batch_norm': True,\n",
       " 'freeze_last_layer': 1,\n",
       " 'norm_last_layer': True,\n",
       " 'warmup_teacher_temp': 0.04,\n",
       " 'teacher_temp': 0.06,\n",
       " 'warmup_teacher_temp_epochs': 30,\n",
       " 'student_temp': 0.1,\n",
       " 'center_momentum': 0.9,\n",
       " 'lr_start': 0.0016875,\n",
       " 'lr_final': 1e-06,\n",
       " 'lr_warmup_epochs': 10,\n",
       " 'wd_start': 0.04,\n",
       " 'wd_final': 0.4,\n",
       " 'mm_start': 0.994,\n",
       " 'mm_final': 1.0}"
      ]
     },
     "execution_count": 3,
     "metadata": {},
     "output_type": "execute_result"
    }
   ],
   "source": [
    "ckpt[\"hyper_parameters\"]"
   ]
  },
  {
   "cell_type": "code",
   "execution_count": 4,
   "id": "f3766a21-722c-4159-bb33-ff95d4ebbd4e",
   "metadata": {},
   "outputs": [],
   "source": [
    "hparams = {\n",
    "    k: ckpt[\"hyper_parameters\"][k]\n",
    "    for k in [\"arch\", \"image_size\", \"patch_size\", \"drop_path_rate\", \"pos_emb\"]\n",
    "}\n",
    "model = get_vit(**hparams)"
   ]
  },
  {
   "cell_type": "code",
   "execution_count": 5,
   "id": "d7f0f8b2-e09d-4f20-bead-dfa281b06db2",
   "metadata": {},
   "outputs": [
    {
     "data": {
      "text/plain": [
       "<All keys matched successfully>"
      ]
     },
     "execution_count": 5,
     "metadata": {},
     "output_type": "execute_result"
    }
   ],
   "source": [
    "train_state_dict = ckpt[\"state_dict\"]\n",
    "vit_state_dict = OrderedDict()\n",
    "for key in train_state_dict:\n",
    "    if key.startswith(\"teacher_backbone\"):\n",
    "        _, new_key = key.split(\"teacher_backbone.\")\n",
    "        vit_state_dict[new_key] = train_state_dict[key]\n",
    "model.load_state_dict(vit_state_dict)"
   ]
  },
  {
   "cell_type": "code",
   "execution_count": 6,
   "id": "53e33f28-4340-4c0a-adaa-05e486b37bdf",
   "metadata": {},
   "outputs": [
    {
     "data": {
      "text/plain": [
       "torch.Size([1, 384])"
      ]
     },
     "execution_count": 6,
     "metadata": {},
     "output_type": "execute_result"
    }
   ],
   "source": [
    "model.eval()\n",
    "x = torch.randn(1, 3, 224, 224)\n",
    "y = model(x)\n",
    "y.shape"
   ]
  },
  {
   "cell_type": "code",
   "execution_count": 7,
   "id": "54442811-0508-4199-9afc-c5c404d81f2a",
   "metadata": {},
   "outputs": [],
   "source": [
    "new_ckpt = {\"hyperparams\": hparams, \"state_dict\": vit_state_dict}\n",
    "torch.save(new_ckpt, \"vit_small_dino_2x_mixed.pt\")"
   ]
  }
 ],
 "metadata": {
  "kernelspec": {
   "display_name": "Python 3 (ipykernel)",
   "language": "python",
   "name": "python3"
  },
  "language_info": {
   "codemirror_mode": {
    "name": "ipython",
    "version": 3
   },
   "file_extension": ".py",
   "mimetype": "text/x-python",
   "name": "python",
   "nbconvert_exporter": "python",
   "pygments_lexer": "ipython3",
   "version": "3.9.16"
  }
 },
 "nbformat": 4,
 "nbformat_minor": 5
}
